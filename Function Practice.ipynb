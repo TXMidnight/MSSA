{
 "cells": [
  {
   "cell_type": "code",
   "execution_count": 1,
   "metadata": {
    "collapsed": false
   },
   "outputs": [
    {
     "name": "stdout",
     "output_type": "stream",
     "text": [
      "['1', '0']\n",
      "This number is not divisble by 3\n",
      "['1', '5', '0']\n",
      "This number is divisible by 3\n",
      "['9', '7', '5']\n",
      "This number is divisible by 3\n"
     ]
    },
    {
     "data": {
      "text/plain": [
       "21"
      ]
     },
     "execution_count": 1,
     "metadata": {
     },
     "output_type": "execute_result"
    }
   ],
   "source": [
    "def summer(n):\n",
    "    ncon=n\n",
    "    ncon=str(n)\n",
    "    lst=[]\n",
    "    numlist=[]\n",
    "    for char in ncon:\n",
    "       lst.append(char)\n",
    "       for spot in lst:\n",
    "          num=int(char)\n",
    "       numlist.append(num)\n",
    "    sum=0\n",
    "    print(lst[0:])\n",
    "    for thing in numlist:\n",
    "        sum=sum+thing\n",
    "    if (sum%3==0):\n",
    "        print(\"This number is divisible by 3\")\n",
    "    else:\n",
    "        print(\"This number is not divisble by 3\")\n",
    "        #chcecking for divisible by 5 next. time for bed.\n",
    "    check5=len(numlist)\n",
    "    \n",
    "    return (sum)\n",
    "\n",
    "summer(10)\n",
    "summer(150)\n",
    "summer(975)"
   ]
  },
  {
   "cell_type": "code",
   "execution_count": 0,
   "metadata": {
    "collapsed": false
   },
   "outputs": [
   ],
   "source": [
   ]
  }
 ],
 "metadata": {
  "kernelspec": {
   "display_name": "Python 3 (system-wide)",
   "language": "python",
   "metadata": {
    "cocalc": {
     "description": "Python 3 programming language",
     "priority": 100,
     "url": "https://www.python.org/"
    }
   },
   "name": "python3"
  },
  "language_info": {
   "codemirror_mode": {
    "name": "ipython",
    "version": 3
   },
   "file_extension": ".py",
   "mimetype": "text/x-python",
   "name": "python",
   "nbconvert_exporter": "python",
   "pygments_lexer": "ipython3",
   "version": "3.6.9"
  }
 },
 "nbformat": 4,
 "nbformat_minor": 0
}{
 "cells": [
  {
   "cell_type": "markdown",
   "metadata": {
    "collapsed": false
   },
   "source": [
    "### First Attempt at playing with creating lists in functions"
   ]
  },
  {
   "cell_type": "code",
   "execution_count": 1,
   "metadata": {
    "collapsed": false
   },
   "outputs": [
    {
     "name": "stdout",
     "output_type": "stream",
     "text": [
      "['1', '0']\n",
      "This number is not divisble by 3\n",
      "['1', '5', '0']\n",
      "This number is divisible by 3\n",
      "['9', '7', '5']\n",
      "This number is divisible by 3\n"
     ]
    },
    {
     "data": {
      "text/plain": [
       "21"
      ]
     },
     "execution_count": 1,
     "metadata": {
     },
     "output_type": "execute_result"
    }
   ],
   "source": [
    "def summer(n):\n",
    "    ncon = n\n",
    "    ncon = str(n)\n",
    "    lst = []\n",
    "    numlist = []\n",
    "    for char in ncon:\n",
    "        lst.append(char)\n",
    "        for spot in lst:\n",
    "            num = int(char)\n",
    "        numlist.append(num)\n",
    "    sum = 0\n",
    "    print(lst[0:])\n",
    "    for thing in numlist:\n",
    "        sum = sum + thing\n",
    "    if (sum % 3 == 0):\n",
    "        print(\"This number is divisible by 3\")\n",
    "    else:\n",
    "        print(\"This number is not divisble by 3\")\n",
    "        #chcecking for divisible by 5 next. time for bed.\n",
    "    check5 = len(numlist)\n",
    "\n",
    "    return (sum)\n",
    "\n",
    "\n",
    "summer(10)\n",
    "summer(150)\n",
    "summer(975)"
   ]
  }
