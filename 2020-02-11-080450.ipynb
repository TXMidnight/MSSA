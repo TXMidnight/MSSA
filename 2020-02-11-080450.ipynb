{
 "cells": [
  {
   "cell_type": "code",
   "execution_count": 0,
   "metadata": {
    "collapsed": false
   },
   "outputs": [
   ],
   "source": [
    "weight= dict()\n",
    "weight['Joe']=175\n",
    "weight['Tom']=190\n",
    "weight['Dick']=150\n",
    "print(weight)"
   ]
  },
  {
   "cell_type": "code",
   "execution_count": 0,
   "metadata": {
    "collapsed": false
   },
   "outputs": [
   ],
   "source": [
    "adict={\"Joe\":175,\"Tom\":190,\"Dick\":150}\n",
    "print(adict)"
   ]
  },
  {
   "cell_type": "code",
   "execution_count": 0,
   "metadata": {
    "collapsed": false
   },
   "outputs": [
   ],
   "source": [
    "adict[\"Harry\"]=180\n",
    "print(adict)"
   ]
  },
  {
   "cell_type": "code",
   "execution_count": 0,
   "metadata": {
    "collapsed": false
   },
   "outputs": [
   ],
   "source": [
    "del adict[\"Joe\"]\n",
    "print(adict)"
   ]
  },
  {
   "cell_type": "code",
   "execution_count": 0,
   "metadata": {
    "collapsed": false
   },
   "outputs": [
   ],
   "source": [
    "print(adict.get('Dick'))\n"
   ]
  },
  {
   "cell_type": "code",
   "execution_count": 0,
   "metadata": {
    "collapsed": false
   },
   "outputs": [
   ],
   "source": [
    "print(adict[\"Dick\"])"
   ]
  },
  {
   "cell_type": "code",
   "execution_count": 0,
   "metadata": {
    "collapsed": false
   },
   "outputs": [
   ],
   "source": [
    "sum=0\n",
    "for nm in adict:\n",
    "    sum=sum+adict[nm]\n",
    "print(sum)"
   ]
  },
  {
   "cell_type": "code",
   "execution_count": 0,
   "metadata": {
    "collapsed": false
   },
   "outputs": [
   ],
   "source": [
    "rti=adict.items()\n",
    "print(rti)\n",
    "\n",
    "print(adict.items())\n",
    "print(type(rti))"
   ]
  },
  {
   "cell_type": "code",
   "execution_count": 0,
   "metadata": {
    "collapsed": false
   },
   "outputs": [
   ],
   "source": [
    "for each in rti:\n",
    "    print(each)\n",
    "    print(type(each))"
   ]
  },
  {
   "cell_type": "code",
   "execution_count": 0,
   "metadata": {
    "collapsed": false
   },
   "outputs": [
   ],
   "source": [
    "print(rti[0])"
   ]
  },
  {
   "cell_type": "code",
   "execution_count": 0,
   "metadata": {
    "collapsed": false
   },
   "outputs": [
   ],
   "source": [
    "lst=list()\n",
    "lst.append(rti)\n",
    "print(lst)\n",
    "print(lst[0])"
   ]
  },
  {
   "cell_type": "code",
   "execution_count": 0,
   "metadata": {
    "collapsed": false
   },
   "outputs": [
   ],
   "source": [
    "_list=list(rti)\n",
    "print(_list)\n",
    "print(_list[0])"
   ]
  },
  {
   "cell_type": "code",
   "execution_count": 0,
   "metadata": {
    "collapsed": false
   },
   "outputs": [
   ],
   "source": [
    "my_keys=adict.keys()\n",
    "print(my_keys)\n",
    "type(my_keys)"
   ]
  },
  {
   "cell_type": "code",
   "execution_count": 0,
   "metadata": {
    "collapsed": false
   },
   "outputs": [
   ],
   "source": [
    "my_keys1=list(my_keys)\n",
    "type(my_keys1)"
   ]
  },
  {
   "cell_type": "code",
   "execution_count": 0,
   "metadata": {
    "collapsed": false
   },
   "outputs": [
   ],
   "source": [
    "my_vals=adict.values()\n",
    "print(my_vals)\n"
   ]
  },
  {
   "cell_type": "code",
   "execution_count": 0,
   "metadata": {
    "collapsed": false
   },
   "outputs": [
   ],
   "source": [
    "type(my_vals)\n",
    "lvals=list(my_vals)\n",
    "print(lvals)\n",
    "type(lvals)"
   ]
  },
  {
   "cell_type": "code",
   "execution_count": 0,
   "metadata": {
    "collapsed": false
   },
   "outputs": [
   ],
   "source": [
    "s = 'Mississippi'\n",
    "count_dict = {}\n",
    "for c in s:\n",
    "    if c in count_dict:\n",
    "        count_dict[c] = count_dict[c] + 1\n",
    "    else:\n",
    "        count_dict[c] = 1\n",
    "\n",
    "# Let's look at the results\n",
    "\n",
    "for k in count_dict.keys():\n",
    "    print(k,count_dict[k])"
   ]
  },
  {
   "cell_type": "code",
   "execution_count": 0,
   "metadata": {
    "collapsed": false
   },
   "outputs": [
   ],
   "source": [
    "ndic=('2727130252053142514510171943')\n",
    "count_list={}\n",
    "for n in ndic:\n",
    "    if n in count_list:\n",
    "        count_list[n]=count_list[n]+1\n",
    "    else:\n",
    "        count_list[n]=1\n",
    "for x in count_list.keys():\n",
    "    print(x, count_list[x])"
   ]
  },
  {
   "cell_type": "code",
   "execution_count": 0,
   "metadata": {
    "collapsed": false
   },
   "outputs": [
   ],
   "source": [
    "ndic1=('2727130252053142514510171943')\n",
    "l=list(ndic1)\n",
    "count_dict={}\n",
    "for h in ndic1:\n",
    "    count_dict[h]=count_dict.get(h,0)+1\n",
    "for k in count_dict.keys():\n",
    "    print(k, count_dict[k],count_dict[k]/len(ndic1))\n",
    "    "
   ]
  },
  {
   "cell_type": "code",
   "execution_count": 0,
   "metadata": {
    "collapsed": false
   },
   "outputs": [
   ],
   "source": [
    "ndic1=('This is just a proof of generality')\n",
    "l=list(ndic1)\n",
    "count_dict={}\n",
    "for h in ndic1:\n",
    "    count_dict[h]=count_dict.get(h,0)+1\n",
    "for k in count_dict.keys():\n",
    "    print(k, count_dict[k],count_dict[k]/len(ndic1))\n",
    "    "
   ]
  },
  {
   "cell_type": "code",
   "execution_count": 0,
   "metadata": {
    "collapsed": false
   },
   "outputs": [
   ],
   "source": [
    "ndic=('2727130252053142514510171943')\n",
    "count_list={}\n",
    "for n in ndic:\n",
    "    if n in count_list:\n",
    "        count_list[n]=count_list[n]+1\n",
    "    else:\n",
    "        count_list[n]=1\n",
    "print('Number of Occurences for each Item')\n",
    "for x in count_list.keys():\n",
    "    print(x, count_list[x])\n",
    "    \n",
    "maccount=max(count_dict.values())\n",
    "print(' ')\n",
    "print('Maximum Count')\n",
    "print(maccount)\n",
    "\n",
    "Win_list=[]\n",
    "for i in count_dict.keys():\n",
    "    if count_dict[i]>=maccount:\n",
    "        Win_list.append(i)\n",
    "print(' ')\n",
    "print(\"Most Frequent Items\")\n",
    "print(Win_list)"
   ]
  },
  {
   "cell_type": "code",
   "execution_count": 0,
   "metadata": {
    "collapsed": false
   },
   "outputs": [
   ],
   "source": [
    "numlist=[]\n",
    "for i in range(1,101):\n",
    "    s=str(i)\n",
    "    numlist.append(s)\n",
    "print(numlist)"
   ]
  },
  {
   "cell_type": "code",
   "execution_count": 1,
   "metadata": {
    "collapsed": false
   },
   "outputs": [
    {
     "name": "stdout",
     "output_type": "stream",
     "text": [
      "['1', '2', '3', '4', '5', '6', '7', '8', '9', '1', '1', '1', '1', '1', '1', '1', '1', '1', '1', '2', '2', '2', '2', '2', '2', '2', '2', '2', '2', '3', '3', '3', '3', '3', '3', '3', '3', '3', '3', '4', '4', '4', '4', '4', '4', '4', '4', '4', '4', '5', '5', '5', '5', '5', '5', '5', '5', '5', '5', '6', '6', '6', '6', '6', '6', '6', '6', '6', '6', '7', '7', '7', '7', '7', '7', '7', '7', '7', '7', '8', '8', '8', '8', '8', '8', '8', '8', '8', '8', '9', '9', '9', '9', '9', '9', '9', '9', '9', '9', '1']\n"
     ]
    }
   ],
   "source": [
    "fdlist=[]\n",
    "numlist=[]\n",
    "for i in range(1,101):\n",
    "    s=str(i)\n",
    "    numlist.append(s)\n",
    "    fdlist.append(s[0])\n",
    "print(fdlist)\n"
   ]
  },
  {
   "cell_type": "markdown",
   "metadata": {
    "collapsed": false
   },
   "source": [
    "## Drop the print from the previous exercise. Extend the code to get counts and relative frequencies of the items in fdlist.\n",
    "\n"
   ]
  },
  {
   "cell_type": "code",
   "execution_count": 25,
   "metadata": {
    "collapsed": false
   },
   "outputs": [
    {
     "name": "stdout",
     "output_type": "stream",
     "text": [
      "1 611 0.4076050700466978\n",
      "2 111 0.07404936624416278\n",
      "3 111 0.07404936624416278\n",
      "4 111 0.07404936624416278\n",
      "5 111 0.07404936624416278\n",
      "6 111 0.07404936624416278\n",
      "7 111 0.07404936624416278\n",
      "8 111 0.07404936624416278\n",
      "9 111 0.07404936624416278\n"
     ]
    }
   ],
   "source": [
    "fdlist=[]\n",
    "numlist=[]\n",
    "for i in range(1,1500):\n",
    "    s=str(i)\n",
    "    numlist.append(s)\n",
    "    fdlist.append(s[0])\n",
    "countee={}\n",
    "for h in fdlist:\n",
    "    countee[h]=countee.get(h,0)+1\n",
    "for k in countee.keys():\n",
    "    print(k, countee[k], countee[k]/len(fdlist))"
   ]
  },
  {
   "cell_type": "code",
   "execution_count": 0,
   "metadata": {
    "collapsed": false
   },
   "outputs": [
   ],
   "source": [
   ]
  }
 ],
 "metadata": {
  "kernelspec": {
   "display_name": "Python 3 (system-wide)",
   "language": "python",
   "metadata": {
    "cocalc": {
     "description": "Python 3 programming language",
     "priority": 100,
     "url": "https://www.python.org/"
    }
   },
   "name": "python3"
  },
  "language_info": {
   "codemirror_mode": {
    "name": "ipython",
    "version": 3
   },
   "file_extension": ".py",
   "mimetype": "text/x-python",
   "name": "python",
   "nbconvert_exporter": "python",
   "pygments_lexer": "ipython3",
   "version": "3.6.9"
  }
 },
 "nbformat": 4,
 "nbformat_minor": 0
}